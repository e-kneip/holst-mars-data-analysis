{
 "cells": [
  {
   "attachments": {},
   "cell_type": "markdown",
   "metadata": {},
   "source": [
    "## Coupled Markov Process on Pitch and Rhythm"
   ]
  },
  {
   "attachments": {},
   "cell_type": "markdown",
   "metadata": {},
   "source": [
    "## "
   ]
  },
  {
   "cell_type": "code",
   "execution_count": 32,
   "metadata": {},
   "outputs": [],
   "source": [
    "# import data and packages\n",
    "import numpy as np"
   ]
  },
  {
   "attachments": {},
   "cell_type": "markdown",
   "metadata": {},
   "source": [
    "#### Using 1st Violin Data Only"
   ]
  },
  {
   "cell_type": "code",
   "execution_count": 7,
   "metadata": {},
   "outputs": [],
   "source": [
    "# use 1st violin part to predict 16 bars (forwards Markov and backwards?) \n",
    "# - include rests in pitch Markov\n",
    "# - Markov on: pitch, duration (ie onsets), dynamics, articulation, grace notes (duration=0)"
   ]
  },
  {
   "attachments": {},
   "cell_type": "markdown",
   "metadata": {},
   "source": [
    "#### Using 1st and 2nd Violin Data"
   ]
  },
  {
   "cell_type": "code",
   "execution_count": 6,
   "metadata": {},
   "outputs": [],
   "source": [
    "# use 2nd violin part to predict 1st violin part"
   ]
  },
  {
   "cell_type": "code",
   "execution_count": 1,
   "metadata": {},
   "outputs": [],
   "source": [
    "from music21 import *"
   ]
  },
  {
   "cell_type": "code",
   "execution_count": 5,
   "metadata": {},
   "outputs": [],
   "source": [
    "c = converter.parse(r'C:\\Users\\User\\Documents\\MuseScore4\\Scores\\violins.musicxml')"
   ]
  },
  {
   "cell_type": "code",
   "execution_count": 9,
   "metadata": {},
   "outputs": [],
   "source": [
    "c.show('musicxml')"
   ]
  },
  {
   "cell_type": "code",
   "execution_count": 68,
   "metadata": {},
   "outputs": [],
   "source": [
    "pitches, octaves, duration, offset, bars = [], [], [], [], []\n",
    "data = c.recurse().notes\n",
    "\n",
    "for tN in data:\n",
    "    pitches += [[n.name for n in tN.pitches]]\n",
    "    octaves += [[n.octave for n in tN.pitches]]\n",
    "    duration += [tN.duration.quarterLength]\n",
    "    offset += [tN.offset]\n",
    "    bars += [tN.measureNumber]"
   ]
  },
  {
   "cell_type": "code",
   "execution_count": 33,
   "metadata": {},
   "outputs": [
    {
     "data": {
      "text/plain": [
       "[[3], [3], [3], [3], [3], [3], [3], [3], [3], [3]]"
      ]
     },
     "execution_count": 33,
     "metadata": {},
     "output_type": "execute_result"
    }
   ],
   "source": [
    "octaves[0:10]"
   ]
  },
  {
   "cell_type": "code",
   "execution_count": 69,
   "metadata": {},
   "outputs": [
    {
     "name": "stdout",
     "output_type": "stream",
     "text": [
      "3 6\n"
     ]
    }
   ],
   "source": [
    "m = min(*octaves)[0]\n",
    "M = max(*octaves)[0]\n",
    "print(m, M)"
   ]
  },
  {
   "cell_type": "code",
   "execution_count": 28,
   "metadata": {},
   "outputs": [
    {
     "data": {
      "text/plain": [
       "[['G'], ['G'], ['G'], ['G'], ['G'], ['G'], ['G'], ['G'], ['G'], ['G']]"
      ]
     },
     "execution_count": 28,
     "metadata": {},
     "output_type": "execute_result"
    }
   ],
   "source": [
    "pitches[0:10]"
   ]
  },
  {
   "cell_type": "code",
   "execution_count": 27,
   "metadata": {},
   "outputs": [
    {
     "data": {
      "text/plain": [
       "[Fraction(1, 3),\n",
       " Fraction(1, 3),\n",
       " Fraction(1, 3),\n",
       " 1.0,\n",
       " 1.0,\n",
       " 0.5,\n",
       " 0.5,\n",
       " 1.0,\n",
       " Fraction(1, 3),\n",
       " Fraction(1, 3)]"
      ]
     },
     "execution_count": 27,
     "metadata": {},
     "output_type": "execute_result"
    }
   ],
   "source": [
    "duration[0:10]"
   ]
  },
  {
   "cell_type": "code",
   "execution_count": 26,
   "metadata": {},
   "outputs": [
    {
     "data": {
      "text/plain": [
       "[0.0,\n",
       " Fraction(1, 3),\n",
       " Fraction(2, 3),\n",
       " 1.0,\n",
       " 2.0,\n",
       " 3.0,\n",
       " 3.5,\n",
       " 4.0,\n",
       " 0.0,\n",
       " Fraction(1, 3)]"
      ]
     },
     "execution_count": 26,
     "metadata": {},
     "output_type": "execute_result"
    }
   ],
   "source": [
    "offset[0:10]"
   ]
  },
  {
   "cell_type": "code",
   "execution_count": 29,
   "metadata": {},
   "outputs": [
    {
     "data": {
      "text/plain": [
       "[1, 1, 1, 1, 1, 1, 1, 1, 2, 2]"
      ]
     },
     "execution_count": 29,
     "metadata": {},
     "output_type": "execute_result"
    }
   ],
   "source": [
    "bars[0:10]"
   ]
  },
  {
   "cell_type": "code",
   "execution_count": 30,
   "metadata": {},
   "outputs": [],
   "source": [
    "n = data[3]"
   ]
  },
  {
   "cell_type": "code",
   "execution_count": 31,
   "metadata": {},
   "outputs": [
    {
     "data": {
      "text/plain": [
       "[]"
      ]
     },
     "execution_count": 31,
     "metadata": {},
     "output_type": "execute_result"
    }
   ],
   "source": [
    "n.articulations"
   ]
  },
  {
   "cell_type": "code",
   "execution_count": null,
   "metadata": {},
   "outputs": [],
   "source": [
    "# probability of chord, should we even allow this??"
   ]
  },
  {
   "cell_type": "code",
   "execution_count": 82,
   "metadata": {},
   "outputs": [],
   "source": [
    "pitches_no = np.zeros((len(pitches), 1))\n",
    "dict_pitches = {'A': 0, 'A#':1, 'B-':1, 'B': 2, 'C-':2, 'B#':3, 'C': 3, 'C#':4, 'D-':4, 'D': 5, 'D#':6, 'E-':6, 'E': 7, 'E#':7, 'F':8, 'F#':9, 'G-':9, 'F##':10, 'G':10, 'G#':11, 'A-':11}"
   ]
  },
  {
   "cell_type": "code",
   "execution_count": 46,
   "metadata": {},
   "outputs": [
    {
     "data": {
      "text/plain": [
       "1"
      ]
     },
     "execution_count": 46,
     "metadata": {},
     "output_type": "execute_result"
    }
   ],
   "source": [
    "dict_pitches['A+']"
   ]
  },
  {
   "cell_type": "code",
   "execution_count": 89,
   "metadata": {},
   "outputs": [],
   "source": [
    "# transition matrix for pitches\n",
    "\n",
    "P = np.zeros([12*(M-m+1), 12*(M-m+1)]) # assume we stay in same range\n",
    "\n",
    "for i in range(len(pitches)-1):\n",
    "    for j in range(len(pitches[i])):\n",
    "        for k in range(len(pitches[i+1])):\n",
    "            ind1 = (octaves[i][j] - 3) * 12 + dict_pitches[pitches[i][j]]\n",
    "            ind2 = (octaves[i+1][k] - 3) * 12 + dict_pitches[pitches[i+1][k]]\n",
    "            P[ind1, ind2] += 1"
   ]
  },
  {
   "cell_type": "code",
   "execution_count": 97,
   "metadata": {},
   "outputs": [
    {
     "name": "stderr",
     "output_type": "stream",
     "text": [
      "C:\\Users\\User\\AppData\\Local\\Temp\\ipykernel_12696\\786943787.py:1: RuntimeWarning: invalid value encountered in divide\n",
      "  P = P / np.sum(P, axis=1, keepdims=True)\n"
     ]
    }
   ],
   "source": [
    "P = P / np.sum(P, axis=1, keepdims=True)"
   ]
  },
  {
   "cell_type": "code",
   "execution_count": 99,
   "metadata": {},
   "outputs": [
    {
     "data": {
      "text/plain": [
       "array([[0.25      , 0.        , 0.5       , ..., 0.        , 0.        ,\n",
       "        0.        ],\n",
       "       [0.        , 0.        , 0.        , ..., 0.        , 0.        ,\n",
       "        0.        ],\n",
       "       [0.        , 0.        , 0.        , ..., 0.        , 0.        ,\n",
       "        0.        ],\n",
       "       ...,\n",
       "       [0.        , 0.        , 0.        , ..., 0.        , 0.        ,\n",
       "        0.2       ],\n",
       "       [0.        , 0.        , 0.        , ..., 0.        , 0.73529412,\n",
       "        0.02941176],\n",
       "       [0.        , 0.        , 0.        , ..., 0.        , 0.5       ,\n",
       "        0.        ]])"
      ]
     },
     "execution_count": 99,
     "metadata": {},
     "output_type": "execute_result"
    }
   ],
   "source": [
    "P"
   ]
  },
  {
   "cell_type": "code",
   "execution_count": null,
   "metadata": {},
   "outputs": [],
   "source": [
    "# transtion matrix for rhythm"
   ]
  }
 ],
 "metadata": {
  "kernelspec": {
   "display_name": "Python 3",
   "language": "python",
   "name": "python3"
  },
  "language_info": {
   "codemirror_mode": {
    "name": "ipython",
    "version": 3
   },
   "file_extension": ".py",
   "mimetype": "text/x-python",
   "name": "python",
   "nbconvert_exporter": "python",
   "pygments_lexer": "ipython3",
   "version": "3.11.2"
  },
  "orig_nbformat": 4,
  "vscode": {
   "interpreter": {
    "hash": "ebfc0a8d552866b0d59eba665220a57de3bc06f3ac643b8bef38dd8f66781fdd"
   }
  }
 },
 "nbformat": 4,
 "nbformat_minor": 2
}
