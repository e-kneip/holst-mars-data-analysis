{
 "cells": [
  {
   "attachments": {},
   "cell_type": "markdown",
   "metadata": {},
   "source": [
    "## Coupled Markov Process on Pitch and Rhythm"
   ]
  },
  {
   "attachments": {},
   "cell_type": "markdown",
   "metadata": {},
   "source": [
    "## "
   ]
  },
  {
   "cell_type": "code",
   "execution_count": 1,
   "metadata": {},
   "outputs": [],
   "source": [
    "# import data and packages\n",
    "import numpy as np\n",
    "from fractions import Fraction\n",
    "from music21 import *"
   ]
  },
  {
   "attachments": {},
   "cell_type": "markdown",
   "metadata": {},
   "source": [
    "#### 1st Order Markov Chain"
   ]
  },
  {
   "attachments": {},
   "cell_type": "markdown",
   "metadata": {},
   "source": [
    "We first build the transition matrices for pitch and rhythm."
   ]
  },
  {
   "cell_type": "code",
   "execution_count": 2,
   "metadata": {},
   "outputs": [],
   "source": [
    "c = converter.parse(r'C:\\Users\\User\\Documents\\MuseScore4\\Scores\\violins.musicxml')"
   ]
  },
  {
   "cell_type": "code",
   "execution_count": 3,
   "metadata": {},
   "outputs": [],
   "source": [
    "c.show('musicxml')"
   ]
  },
  {
   "cell_type": "code",
   "execution_count": 3,
   "metadata": {},
   "outputs": [
    {
     "name": "stderr",
     "output_type": "stream",
     "text": [
      "C:\\Users\\User\\AppData\\Local\\Temp\\ipykernel_648\\1327628057.py:12: VisibleDeprecationWarning: Creating an ndarray from ragged nested sequences (which is a list-or-tuple of lists-or-tuples-or ndarrays with different lengths or shapes) is deprecated. If you meant to do this, you must specify 'dtype=object' when creating the ndarray.\n",
      "  d = np.array([pitches, octaves, duration, offset, bars])\n"
     ]
    }
   ],
   "source": [
    "pitches, octaves, duration, offset, bars = [], [], [], [], []\n",
    "data = c.recurse().notes\n",
    "\n",
    "for tN in data:\n",
    "    pitches += [[n.name for n in tN.pitches]]\n",
    "    octaves += [[n.octave for n in tN.pitches]]\n",
    "    duration += [tN.duration.quarterLength]\n",
    "    offset += [tN.offset]\n",
    "    bars += [tN.measureNumber]\n",
    "\n",
    "# remove bars to be replicated\n",
    "d = np.array([pitches, octaves, duration, offset, bars])\n",
    "start = bars.index(113)\n",
    "end = bars.index(119)\n",
    "d = np.delete(d, [i for i in range(start, end)], axis=1)"
   ]
  },
  {
   "cell_type": "code",
   "execution_count": 4,
   "metadata": {},
   "outputs": [
    {
     "name": "stdout",
     "output_type": "stream",
     "text": [
      "3 6\n"
     ]
    }
   ],
   "source": [
    "m = min(*octaves)[0]\n",
    "M = max(*octaves)[0]\n",
    "print(m, M)"
   ]
  },
  {
   "cell_type": "code",
   "execution_count": 5,
   "metadata": {},
   "outputs": [],
   "source": [
    "pitches_no = np.zeros((len(pitches), 1))\n",
    "dict_pitches = {'A': 0, 'A#':1, 'B-':1, 'B': 2, 'C-':2, 'B#':3, 'C': 3, 'C#':4, 'D-':4, 'D': 5, 'D#':6, 'E-':6, 'E': 7, 'E#':7, 'F':8, 'F#':9, 'G-':9, 'F##':10, 'G':10, 'G#':11, 'A-':11}"
   ]
  },
  {
   "cell_type": "code",
   "execution_count": 6,
   "metadata": {},
   "outputs": [
    {
     "name": "stderr",
     "output_type": "stream",
     "text": [
      "C:\\Users\\User\\AppData\\Local\\Temp\\ipykernel_648\\1021351871.py:12: RuntimeWarning: invalid value encountered in divide\n",
      "  P1 = P1 / np.sum(P1, axis=1, keepdims=True)\n"
     ]
    }
   ],
   "source": [
    "# build transition matrix for pitches\n",
    "\n",
    "P1 = np.zeros([12*(M-m+1), 12*(M-m+1)]) # assume we stay in same range\n",
    "\n",
    "for i in range(len(pitches)-1):\n",
    "    for j in range(len(pitches[i])):\n",
    "        for k in range(len(pitches[i+1])):\n",
    "            ind1 = (octaves[i][j] - 3) * 12 + dict_pitches[pitches[i][j]]\n",
    "            ind2 = (octaves[i+1][k] - 3) * 12 + dict_pitches[pitches[i+1][k]]\n",
    "            P1[ind1, ind2] += 1\n",
    "\n",
    "P1 = P1 / np.sum(P1, axis=1, keepdims=True)"
   ]
  },
  {
   "cell_type": "code",
   "execution_count": 7,
   "metadata": {},
   "outputs": [],
   "source": [
    "stre = c.parts.stream()"
   ]
  },
  {
   "cell_type": "code",
   "execution_count": 8,
   "metadata": {},
   "outputs": [],
   "source": [
    "# list of note and rest durations, where rests are indicated by strings\n",
    "\n",
    "rhy = []\n",
    "\n",
    "for n in stre.flat.notesAndRests:\n",
    "    if n.measureNumber >= 113 and n.measureNumber <= 136:\n",
    "        continue\n",
    "    else:\n",
    "        if n.isRest:\n",
    "            rhy += [str(float(n.duration.quarterLength))]\n",
    "        else:\n",
    "            rhy += [float(n.duration.quarterLength)]"
   ]
  },
  {
   "cell_type": "code",
   "execution_count": 9,
   "metadata": {},
   "outputs": [],
   "source": [
    "rhythm_set = set([float(i) for i in rhy])\n",
    "mat_ind = list(rhythm_set) + [str(i) for i in rhythm_set]"
   ]
  },
  {
   "cell_type": "code",
   "execution_count": 10,
   "metadata": {},
   "outputs": [
    {
     "name": "stderr",
     "output_type": "stream",
     "text": [
      "C:\\Users\\User\\AppData\\Local\\Temp\\ipykernel_648\\1491624057.py:10: RuntimeWarning: invalid value encountered in divide\n",
      "  R1 = R1 / np.sum(R1, axis=1, keepdims=True)\n"
     ]
    }
   ],
   "source": [
    "# build transition matrix for rhythm\n",
    "\n",
    "R1 = np.zeros([len(mat_ind), len(mat_ind)])\n",
    "\n",
    "for i in range(len(rhy)-1):\n",
    "    ind1 = mat_ind.index(rhy[i])\n",
    "    ind2 = mat_ind.index(rhy[i+1])\n",
    "    R1[ind1, ind2] += 1\n",
    "\n",
    "R1 = R1 / np.sum(R1, axis=1, keepdims=True)"
   ]
  },
  {
   "attachments": {},
   "cell_type": "markdown",
   "metadata": {},
   "source": [
    "Now we run the stochastic process using the transition matrices derived."
   ]
  },
  {
   "cell_type": "code",
   "execution_count": 11,
   "metadata": {},
   "outputs": [],
   "source": [
    "def violin_note(duration, pitch = \"C4\"):\n",
    "    # create Note object with pitch and duration\n",
    "    return note.Note(pitch, quarterLength = duration)"
   ]
  },
  {
   "cell_type": "code",
   "execution_count": 12,
   "metadata": {},
   "outputs": [],
   "source": [
    "def create_violin_stream(time_sig = None):\n",
    "    # initialize note stream for violin\n",
    "    # if time signature is None, no measure splits\n",
    "    if time_sig == None:\n",
    "        violPart = stream.Measure()\n",
    "    else:\n",
    "        violPart = stream.Stream()\n",
    "        violPart.timeSignature = meter.TimeSignature(time_sig)\n",
    "    \n",
    "    violPart.insert(0, instrument.Violin())\n",
    "    return violPart"
   ]
  },
  {
   "cell_type": "code",
   "execution_count": 13,
   "metadata": {},
   "outputs": [],
   "source": [
    "def append_event(duration, original_stream, rest = False, pitch = 'C4'):\n",
    "    # returns a new_stream obtained by appending a rhythmical event or a rest of given duration to the original_stream\n",
    "    new_stream = original_stream\n",
    "    if rest:\n",
    "        new_stream.append(note.Rest(quarterLength = duration))\n",
    "    else:\n",
    "        new_stream.append(violin_note(duration, pitch))\n",
    "    return new_stream"
   ]
  },
  {
   "cell_type": "code",
   "execution_count": 14,
   "metadata": {},
   "outputs": [],
   "source": [
    "def rhythm_from_sequence(durations, time_sig = None, pitch = 'C4', rhythm=None):\n",
    "    # generate rhythmic stream from a list of durations. Rests are indicated by specifying a duration as a string\n",
    "    if rhythm is None:\n",
    "        # pass an existing stream 'rhythm' to append the durations, otherwise a new one will be created\n",
    "        rhythm = create_violin_stream(time_sig = time_sig)\n",
    "    for dur in durations:\n",
    "        is_rest = False\n",
    "        if dur != 0:\n",
    "            if isinstance(dur, str):\n",
    "                #if duration is given as a string, interpret and rest and turn string into a numerical value\n",
    "                is_rest = True\n",
    "                dur = Fraction(dur)\n",
    "            \n",
    "            rhythm = append_event(dur, rhythm, rest = is_rest, pitch = pitch) \n",
    "    return rhythm"
   ]
  },
  {
   "cell_type": "code",
   "execution_count": 15,
   "metadata": {},
   "outputs": [],
   "source": [
    "dict_pitches_inv = {v: k for k, v in dict_pitches.items()}"
   ]
  },
  {
   "cell_type": "code",
   "execution_count": 59,
   "metadata": {},
   "outputs": [],
   "source": [
    "s = rhythm_from_sequence([], time_sig = '5/4')\n",
    "\n",
    "bars_total = 6\n",
    "beats = bars_total*5\n",
    "new_pitch = d[0, start-1][0]\n",
    "new_octave = d[1, start-1][0]\n",
    "new_duration = d[2, start-1]\n",
    "\n",
    "# generate a sequence of notes wrt the transition matrices P, R\n",
    "while beats>0:\n",
    "    is_rest = False\n",
    "    old_pitch, old_octave, old_duration = new_pitch, new_octave, new_duration\n",
    "\n",
    "    # pitch process\n",
    "    ind1 = (old_octave - 3) * 12 + dict_pitches[old_pitch]\n",
    "    ind2 = np.random.choice(np.arange(12*(M-m+1)), p=P1[ind1, :])\n",
    "    new_pitch = dict_pitches_inv[ind2 % 12]\n",
    "    new_octave = (ind2 // 12) + 3\n",
    "\n",
    "    # rhythm process\n",
    "    ind1 = mat_ind.index(old_duration)\n",
    "    ind2 = np.random.choice(len(mat_ind), p=R1[ind1, :])\n",
    "    new_duration = mat_ind[ind2]\n",
    "    if isinstance(new_duration, str):\n",
    "        is_rest = True\n",
    "        new_duration = Fraction(new_duration)\n",
    "\n",
    "    # update beats\n",
    "    beats -= float(new_duration)\n",
    "    if beats < 0:\n",
    "        new_duration = float(new_duration) + beats\n",
    "    \n",
    "    if is_rest:\n",
    "        new_duration = Fraction(new_duration)\n",
    "    # append note to stream\n",
    "    append_event(new_duration, s, rest=is_rest, pitch = new_pitch + str(new_octave))"
   ]
  },
  {
   "cell_type": "code",
   "execution_count": 60,
   "metadata": {},
   "outputs": [],
   "source": [
    "s.show('musicxml')"
   ]
  },
  {
   "attachments": {},
   "cell_type": "markdown",
   "metadata": {},
   "source": [
    "#### 2nd Order Markov Chain"
   ]
  },
  {
   "cell_type": "code",
   "execution_count": 18,
   "metadata": {},
   "outputs": [
    {
     "name": "stderr",
     "output_type": "stream",
     "text": [
      "C:\\Users\\User\\AppData\\Local\\Temp\\ipykernel_648\\763464974.py:15: RuntimeWarning: invalid value encountered in divide\n",
      "  P2 = P2 / np.sum(P2, axis=1, keepdims=True)\n"
     ]
    }
   ],
   "source": [
    "# 2nd order pitch transition matrix\n",
    "\n",
    "N = 12*(M-m+1)\n",
    "P2 = np.zeros([N**2, N])\n",
    "\n",
    "for i in range(len(pitches)-2):\n",
    "    for j in range(len(pitches[i])):\n",
    "        for k in range(len(pitches[i+1])):\n",
    "            for l in range(len(pitches[i+2])):\n",
    "                ind1 = (octaves[i][j] - 3) * 12 + dict_pitches[pitches[i][j]]\n",
    "                ind2 = (octaves[i+1][k] - 3) * 12 + dict_pitches[pitches[i+1][k]]\n",
    "                ind3 = (octaves[i+2][l] - 3) * 12 + dict_pitches[pitches[i+2][l]]\n",
    "                P2[ind1*N + ind2, ind3] += 1\n",
    "\n",
    "P2 = P2 / np.sum(P2, axis=1, keepdims=True)"
   ]
  },
  {
   "cell_type": "code",
   "execution_count": 19,
   "metadata": {},
   "outputs": [
    {
     "name": "stderr",
     "output_type": "stream",
     "text": [
      "C:\\Users\\User\\AppData\\Local\\Temp\\ipykernel_648\\80179216.py:12: RuntimeWarning: invalid value encountered in divide\n",
      "  R2 = R2 / np.sum(R2, axis=1, keepdims=True)\n"
     ]
    }
   ],
   "source": [
    "# 2nd order rhythm transition matrix\n",
    "\n",
    "L = len(mat_ind)\n",
    "R2 = np.zeros([L**2, L])\n",
    "\n",
    "for i in range(len(rhy)-2):\n",
    "    ind1 = mat_ind.index(rhy[i])\n",
    "    ind2 = mat_ind.index(rhy[i+1])\n",
    "    ind3 = mat_ind.index(rhy[i+2])\n",
    "    R2[ind1*L + ind2, ind3] += 1\n",
    "\n",
    "R2 = R2 / np.sum(R2, axis=1, keepdims=True)"
   ]
  },
  {
   "cell_type": "code",
   "execution_count": 51,
   "metadata": {},
   "outputs": [],
   "source": [
    "s = rhythm_from_sequence([], time_sig = '5/4')\n",
    "\n",
    "bars_total = 6\n",
    "beats = bars_total*5\n",
    "old_pitch2, new_pitch = d[0, start-2][0], d[0, start-1][0]\n",
    "old_octave2, new_octave = d[1, start-2][0], d[1, start-1][0]\n",
    "old_duration2, new_duration = d[2, start-2], d[2, start-1]\n",
    "\n",
    "# generate a sequence of notes wrt the transition matrices P, R\n",
    "while beats>0:\n",
    "    is_rest = False\n",
    "\n",
    "    old_pitch1, old_pitch2 = old_pitch2, new_pitch\n",
    "    old_octave1, old_octave2 = old_octave2, new_octave\n",
    "    old_duration1, old_duration2 = old_duration2, new_duration\n",
    "\n",
    "    # pitch process\n",
    "    ind1 = (old_octave1 - 3) * 12 + dict_pitches[old_pitch1]\n",
    "    ind2 = (old_octave2 - 3) * 12 + dict_pitches[old_pitch2]\n",
    "    ind3 = np.random.choice(np.arange(N), p=P2[ind1*N + ind2, :])\n",
    "    new_pitch = dict_pitches_inv[ind3 % 12]\n",
    "    new_octave = (ind3 // 12) + 3\n",
    "\n",
    "    # rhythm process\n",
    "    ind1 = mat_ind.index(old_duration1)\n",
    "    ind2 = mat_ind.index(old_duration2)\n",
    "    ind3 = np.random.choice(len(mat_ind), p=R2[ind1*L + ind2, :])\n",
    "    new_duration = mat_ind[ind3]\n",
    "    if isinstance(new_duration, str):\n",
    "        is_rest = True\n",
    "        new_duration = Fraction(new_duration)\n",
    "\n",
    "    # update beats\n",
    "    beats -= float(new_duration)\n",
    "    if beats < 0:\n",
    "        new_duration = float(new_duration) + beats\n",
    "    if is_rest:\n",
    "        new_duration = Fraction(new_duration)\n",
    "    # append note to stream    \n",
    "    append_event(new_duration, s, rest = is_rest, pitch = new_pitch + str(new_octave))"
   ]
  },
  {
   "cell_type": "code",
   "execution_count": 52,
   "metadata": {},
   "outputs": [],
   "source": [
    "s.show('musicxml')"
   ]
  },
  {
   "attachments": {},
   "cell_type": "markdown",
   "metadata": {},
   "source": [
    "#### 4th Order Markov Chain"
   ]
  },
  {
   "cell_type": "code",
   "execution_count": 25,
   "metadata": {},
   "outputs": [
    {
     "name": "stderr",
     "output_type": "stream",
     "text": [
      "C:\\Users\\User\\AppData\\Local\\Temp\\ipykernel_648\\2363096041.py:19: RuntimeWarning: invalid value encountered in divide\n",
      "  P4 = P4 / np.sum(P4, axis=1, keepdims=True)\n"
     ]
    }
   ],
   "source": [
    "# 4th order pitch transition matrix\n",
    "\n",
    "P4 = np.zeros([N**4, N])\n",
    "\n",
    "# lots of for loops but after the first, loops at most 4 times and rarely (correspond to chords)\n",
    "for i in range(len(pitches)-4):\n",
    "    for j in range(len(pitches[i])):\n",
    "        for k in range(len(pitches[i+1])):\n",
    "            for l in range(len(pitches[i+2])):\n",
    "                for n in range(len(pitches[i+3])):\n",
    "                    for p in range(len(pitches[i+4])):\n",
    "                        ind1 = (octaves[i][j] - 3) * 12 + dict_pitches[pitches[i][j]]\n",
    "                        ind2 = (octaves[i+1][k] - 3) * 12 + dict_pitches[pitches[i+1][k]]\n",
    "                        ind3 = (octaves[i+2][l] - 3) * 12 + dict_pitches[pitches[i+2][l]]\n",
    "                        ind4 = (octaves[i+3][n] - 3) * 12 + dict_pitches[pitches[i+3][n]]\n",
    "                        ind5 = (octaves[i+4][p] - 3) * 12 + dict_pitches[pitches[i+4][p]]\n",
    "                        P4[ind1*N**3 + ind2*N**2 + ind3*N**1 + ind4, ind5] += 1\n",
    "\n",
    "P4 = P4 / np.sum(P4, axis=1, keepdims=True)"
   ]
  },
  {
   "cell_type": "code",
   "execution_count": 26,
   "metadata": {},
   "outputs": [
    {
     "name": "stderr",
     "output_type": "stream",
     "text": [
      "C:\\Users\\User\\AppData\\Local\\Temp\\ipykernel_648\\1595264478.py:13: RuntimeWarning: invalid value encountered in divide\n",
      "  R4 = R4 / np.sum(R4, axis=1, keepdims=True)\n"
     ]
    }
   ],
   "source": [
    "# 4th order rhythm transition matrix\n",
    "\n",
    "R4 = np.zeros([L**4, L])\n",
    "\n",
    "for i in range(len(rhy)-4):\n",
    "    ind1 = mat_ind.index(rhy[i])\n",
    "    ind2 = mat_ind.index(rhy[i+1])\n",
    "    ind3 = mat_ind.index(rhy[i+2])\n",
    "    ind4 = mat_ind.index(rhy[i+3])\n",
    "    ind5 = mat_ind.index(rhy[i+4])\n",
    "    R4[ind1*L**3 + ind2*L**2 + ind3*L + ind4, ind5] += 1\n",
    "\n",
    "R4 = R4 / np.sum(R4, axis=1, keepdims=True)"
   ]
  },
  {
   "cell_type": "code",
   "execution_count": 27,
   "metadata": {},
   "outputs": [],
   "source": [
    "s = rhythm_from_sequence([], time_sig = '5/4')\n",
    "\n",
    "bars_total = 6\n",
    "beats = bars_total*5\n",
    "old_pitch2, old_pitch3, old_pitch4, new_pitch = d[0, start-4][0], d[0, start-3][0], d[0, start-2][0], d[0, start-1][0]\n",
    "old_octave2, old_octave3, old_octave4, new_octave = d[1, start-4][0], d[1, start-3][0], d[1, start-2][0], d[1, start-1][0]\n",
    "old_duration2, old_duration3, old_duration4, new_duration = d[2, start-4], d[2, start-3], d[2, start-2], d[2, start-1]\n",
    "\n",
    "# generate a sequence of notes wrt the transition matrices P, R\n",
    "while beats>0:\n",
    "    is_rest = False\n",
    "\n",
    "    old_pitch1, old_pitch2, old_pitch3, old_pitch4 = old_pitch2, old_pitch3, old_pitch4, new_pitch\n",
    "    old_octave1, old_octave2, old_octave3, old_octave4 = old_octave2, old_octave3, old_octave4, new_octave\n",
    "    old_duration1, old_duration2, old_duration3, old_duration4 = old_duration2, old_duration3, old_duration4, new_duration\n",
    "\n",
    "    # pitch process\n",
    "    ind1 = (old_octave1 - 3) * 12 + dict_pitches[old_pitch1]\n",
    "    ind2 = (old_octave2 - 3) * 12 + dict_pitches[old_pitch2]\n",
    "    ind3 = (old_octave3 - 3) * 12 + dict_pitches[old_pitch3]\n",
    "    ind4 = (old_octave4 - 3) * 12 + dict_pitches[old_pitch4]\n",
    "    ind5 = np.random.choice(np.arange(N), p=P4[ind1*N**3 + ind2*N**2 + ind3*N + ind4, :])\n",
    "    new_pitch = dict_pitches_inv[ind5 % 12]\n",
    "    new_octave = (ind5 // 12) + 3\n",
    "\n",
    "    # rhythm process\n",
    "    ind1 = mat_ind.index(old_duration1)\n",
    "    ind2 = mat_ind.index(old_duration2)\n",
    "    ind3 = mat_ind.index(old_duration3)\n",
    "    ind4 = mat_ind.index(old_duration4)\n",
    "    ind5 = np.random.choice(len(mat_ind), p=R4[ind1*L**3 + ind2*L**2 + ind3*L + ind4, :])\n",
    "    new_duration = mat_ind[ind5]\n",
    "    if isinstance(new_duration, str):\n",
    "        is_rest = True\n",
    "        new_duration = Fraction(new_duration)\n",
    "\n",
    "    # update beats\n",
    "    beats -= float(new_duration)\n",
    "    if beats < 0:\n",
    "        new_duration = float(new_duration) + beats\n",
    "    if is_rest:\n",
    "        new_duration = Fraction(new_duration)\n",
    "    # append note to stream    \n",
    "    append_event(new_duration, s, rest = is_rest, pitch = new_pitch + str(new_octave))"
   ]
  },
  {
   "cell_type": "code",
   "execution_count": 28,
   "metadata": {},
   "outputs": [],
   "source": [
    "s.show('musicxml')"
   ]
  },
  {
   "cell_type": "code",
   "execution_count": null,
   "metadata": {},
   "outputs": [],
   "source": []
  }
 ],
 "metadata": {
  "kernelspec": {
   "display_name": "Python 3",
   "language": "python",
   "name": "python3"
  },
  "language_info": {
   "codemirror_mode": {
    "name": "ipython",
    "version": 3
   },
   "file_extension": ".py",
   "mimetype": "text/x-python",
   "name": "python",
   "nbconvert_exporter": "python",
   "pygments_lexer": "ipython3",
   "version": "3.11.2"
  },
  "orig_nbformat": 4,
  "vscode": {
   "interpreter": {
    "hash": "ebfc0a8d552866b0d59eba665220a57de3bc06f3ac643b8bef38dd8f66781fdd"
   }
  }
 },
 "nbformat": 4,
 "nbformat_minor": 2
}
