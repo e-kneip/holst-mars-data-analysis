{
 "cells": [
  {
   "attachments": {},
   "cell_type": "markdown",
   "metadata": {},
   "source": [
    "## Coupled Markov Process on Pitch and Rhythm"
   ]
  },
  {
   "attachments": {},
   "cell_type": "markdown",
   "metadata": {},
   "source": [
    "## "
   ]
  },
  {
   "cell_type": "code",
   "execution_count": 1,
   "metadata": {},
   "outputs": [],
   "source": [
    "# import data and packages\n",
    "import numpy as np\n",
    "from fractions import Fraction\n",
    "from music21 import *"
   ]
  },
  {
   "attachments": {},
   "cell_type": "markdown",
   "metadata": {},
   "source": [
    "#### 1st Order Markov Chain"
   ]
  },
  {
   "attachments": {},
   "cell_type": "markdown",
   "metadata": {},
   "source": [
    "We first build the transition matrices for pitch and rhythm."
   ]
  },
  {
   "cell_type": "code",
   "execution_count": 2,
   "metadata": {},
   "outputs": [],
   "source": [
    "c = converter.parse(r'C:\\Users\\User\\Documents\\MuseScore4\\Scores\\violins.musicxml')"
   ]
  },
  {
   "cell_type": "code",
   "execution_count": 3,
   "metadata": {},
   "outputs": [],
   "source": [
    "c.show('musicxml')"
   ]
  },
  {
   "cell_type": "code",
   "execution_count": 4,
   "metadata": {},
   "outputs": [
    {
     "name": "stderr",
     "output_type": "stream",
     "text": [
      "C:\\Users\\User\\AppData\\Local\\Temp\\ipykernel_3608\\1327628057.py:12: VisibleDeprecationWarning: Creating an ndarray from ragged nested sequences (which is a list-or-tuple of lists-or-tuples-or ndarrays with different lengths or shapes) is deprecated. If you meant to do this, you must specify 'dtype=object' when creating the ndarray.\n",
      "  d = np.array([pitches, octaves, duration, offset, bars])\n"
     ]
    }
   ],
   "source": [
    "pitches, octaves, duration, offset, bars = [], [], [], [], []\n",
    "data = c.recurse().notes\n",
    "\n",
    "for tN in data:\n",
    "    pitches += [[n.name for n in tN.pitches]]\n",
    "    octaves += [[n.octave for n in tN.pitches]]\n",
    "    duration += [tN.duration.quarterLength]\n",
    "    offset += [tN.offset]\n",
    "    bars += [tN.measureNumber]\n",
    "\n",
    "# remove bars to be replicated\n",
    "d = np.array([pitches, octaves, duration, offset, bars])\n",
    "start = bars.index(113)\n",
    "end = bars.index(137)\n",
    "d = np.delete(d, [i for i in range(start, end)], axis=1)"
   ]
  },
  {
   "cell_type": "code",
   "execution_count": 5,
   "metadata": {},
   "outputs": [
    {
     "name": "stdout",
     "output_type": "stream",
     "text": [
      "3 6\n"
     ]
    }
   ],
   "source": [
    "m = min(*octaves)[0]\n",
    "M = max(*octaves)[0]\n",
    "print(m, M)"
   ]
  },
  {
   "cell_type": "code",
   "execution_count": 6,
   "metadata": {},
   "outputs": [],
   "source": [
    "pitches_no = np.zeros((len(pitches), 1))\n",
    "dict_pitches = {'A': 0, 'A#':1, 'B-':1, 'B': 2, 'C-':2, 'B#':3, 'C': 3, 'C#':4, 'D-':4, 'D': 5, 'D#':6, 'E-':6, 'E': 7, 'E#':7, 'F':8, 'F#':9, 'G-':9, 'F##':10, 'G':10, 'G#':11, 'A-':11}"
   ]
  },
  {
   "cell_type": "code",
   "execution_count": 39,
   "metadata": {},
   "outputs": [
    {
     "name": "stderr",
     "output_type": "stream",
     "text": [
      "C:\\Users\\User\\AppData\\Local\\Temp\\ipykernel_3608\\1108432372.py:12: RuntimeWarning: invalid value encountered in divide\n",
      "  P = P / np.sum(P, axis=1, keepdims=True)\n"
     ]
    }
   ],
   "source": [
    "# build transition matrix for pitches\n",
    "\n",
    "P = np.zeros([12*(M-m+1), 12*(M-m+1)]) # assume we stay in same range\n",
    "\n",
    "for i in range(len(pitches)-1):\n",
    "    for j in range(len(pitches[i])):\n",
    "        for k in range(len(pitches[i+1])):\n",
    "            ind1 = (octaves[i][j] - 3) * 12 + dict_pitches[pitches[i][j]]\n",
    "            ind2 = (octaves[i+1][k] - 3) * 12 + dict_pitches[pitches[i+1][k]]\n",
    "            P[ind1, ind2] += 1\n",
    "\n",
    "P = P / np.sum(P, axis=1, keepdims=True)"
   ]
  },
  {
   "cell_type": "code",
   "execution_count": 40,
   "metadata": {},
   "outputs": [
    {
     "data": {
      "text/plain": [
       "array([[0.25      , 0.        , 0.5       , ..., 0.        , 0.        ,\n",
       "        0.        ],\n",
       "       [0.        , 0.        , 0.        , ..., 0.        , 0.        ,\n",
       "        0.        ],\n",
       "       [0.        , 0.        , 0.        , ..., 0.        , 0.        ,\n",
       "        0.        ],\n",
       "       ...,\n",
       "       [0.        , 0.        , 0.        , ..., 0.        , 0.        ,\n",
       "        0.2       ],\n",
       "       [0.        , 0.        , 0.        , ..., 0.        , 0.73529412,\n",
       "        0.02941176],\n",
       "       [0.        , 0.        , 0.        , ..., 0.        , 0.5       ,\n",
       "        0.        ]])"
      ]
     },
     "execution_count": 40,
     "metadata": {},
     "output_type": "execute_result"
    }
   ],
   "source": [
    "P"
   ]
  },
  {
   "cell_type": "code",
   "execution_count": 41,
   "metadata": {},
   "outputs": [],
   "source": [
    "stre = c.parts.stream()"
   ]
  },
  {
   "cell_type": "code",
   "execution_count": 42,
   "metadata": {},
   "outputs": [],
   "source": [
    "# list of note and rest durations, where rests are indicated by strings\n",
    "\n",
    "rhy = []\n",
    "\n",
    "for n in stre.flat.notesAndRests:\n",
    "    if n.measureNumber >= 113 and n.measureNumber <= 136:\n",
    "        continue\n",
    "    else:\n",
    "        if n.isRest:\n",
    "            rhy += [str(float(n.duration.quarterLength))]\n",
    "        else:\n",
    "            rhy += [float(n.duration.quarterLength)]"
   ]
  },
  {
   "cell_type": "code",
   "execution_count": 12,
   "metadata": {},
   "outputs": [],
   "source": [
    "rhythm_set = set([float(i) for i in rhy])\n",
    "mat_ind = list(rhythm_set) + [str(i) for i in rhythm_set]"
   ]
  },
  {
   "cell_type": "code",
   "execution_count": 57,
   "metadata": {},
   "outputs": [
    {
     "data": {
      "text/plain": [
       "3"
      ]
     },
     "execution_count": 57,
     "metadata": {},
     "output_type": "execute_result"
    }
   ],
   "source": [
    "mat_ind.index(rhy[-1])"
   ]
  },
  {
   "cell_type": "code",
   "execution_count": 58,
   "metadata": {},
   "outputs": [
    {
     "data": {
      "text/plain": [
       "0.043478260869565216"
      ]
     },
     "execution_count": 58,
     "metadata": {},
     "output_type": "execute_result"
    }
   ],
   "source": [
    "R[14, 3]"
   ]
  },
  {
   "cell_type": "code",
   "execution_count": 43,
   "metadata": {},
   "outputs": [
    {
     "name": "stderr",
     "output_type": "stream",
     "text": [
      "C:\\Users\\User\\AppData\\Local\\Temp\\ipykernel_3608\\1693021656.py:10: RuntimeWarning: invalid value encountered in divide\n",
      "  R = R / np.sum(R, axis=1, keepdims=True)\n"
     ]
    }
   ],
   "source": [
    "# build transition matrix for rhythm\n",
    "\n",
    "R = np.zeros([len(mat_ind), len(mat_ind)])\n",
    "\n",
    "for i in range(len(rhy)-1):\n",
    "    ind1 = mat_ind.index(rhy[i])\n",
    "    ind2 = mat_ind.index(rhy[i+1])\n",
    "    R[ind1, ind2] += 1\n",
    "\n",
    "R = R / np.sum(R, axis=1, keepdims=True)"
   ]
  },
  {
   "cell_type": "code",
   "execution_count": 14,
   "metadata": {},
   "outputs": [
    {
     "data": {
      "text/plain": [
       "array([[0.67283951, 0.32098765, 0.        , 0.        , 0.00617284,\n",
       "        0.        , 0.        , 0.        , 0.        , 0.        ,\n",
       "        0.        , 0.        , 0.        , 0.        , 0.        ,\n",
       "        0.        , 0.        , 0.        , 0.        , 0.        ,\n",
       "        0.        , 0.        , 0.        , 0.        , 0.        ,\n",
       "        0.        ],\n",
       "       [0.20833333, 0.46666667, 0.2625    , 0.00416667, 0.0125    ,\n",
       "        0.        , 0.01666667, 0.00416667, 0.        , 0.        ,\n",
       "        0.        , 0.        , 0.        , 0.        , 0.02083333,\n",
       "        0.        , 0.        , 0.        , 0.00416667, 0.        ,\n",
       "        0.        , 0.        , 0.        , 0.        , 0.        ,\n",
       "        0.        ],\n",
       "       [0.00438596, 0.29385965, 0.28508772, 0.        , 0.00438596,\n",
       "        0.        , 0.37280702, 0.        , 0.        , 0.        ,\n",
       "        0.        , 0.        , 0.        , 0.        , 0.        ,\n",
       "        0.03947368, 0.        , 0.        , 0.        , 0.        ,\n",
       "        0.        , 0.        , 0.        , 0.        , 0.        ,\n",
       "        0.        ],\n",
       "       [0.        , 0.06666667, 0.        , 0.        , 0.93333333,\n",
       "        0.        , 0.        , 0.        , 0.        , 0.        ,\n",
       "        0.        , 0.        , 0.        , 0.        , 0.        ,\n",
       "        0.        , 0.        , 0.        , 0.        , 0.        ,\n",
       "        0.        , 0.        , 0.        , 0.        , 0.        ,\n",
       "        0.        ],\n",
       "       [0.02857143, 0.14285714, 0.08571429, 0.4       , 0.14285714,\n",
       "        0.        , 0.        , 0.        , 0.08571429, 0.        ,\n",
       "        0.        , 0.05714286, 0.        , 0.        , 0.        ,\n",
       "        0.        , 0.        , 0.        , 0.02857143, 0.        ,\n",
       "        0.        , 0.        , 0.        , 0.        , 0.        ,\n",
       "        0.02857143],\n",
       "       [       nan,        nan,        nan,        nan,        nan,\n",
       "               nan,        nan,        nan,        nan,        nan,\n",
       "               nan,        nan,        nan,        nan,        nan,\n",
       "               nan,        nan,        nan,        nan,        nan,\n",
       "               nan,        nan,        nan,        nan,        nan,\n",
       "               nan],\n",
       "       [0.        , 0.        , 1.        , 0.        , 0.        ,\n",
       "        0.        , 0.        , 0.        , 0.        , 0.        ,\n",
       "        0.        , 0.        , 0.        , 0.        , 0.        ,\n",
       "        0.        , 0.        , 0.        , 0.        , 0.        ,\n",
       "        0.        , 0.        , 0.        , 0.        , 0.        ,\n",
       "        0.        ],\n",
       "       [0.        , 0.16666667, 0.        , 0.        , 0.        ,\n",
       "        0.        , 0.        , 0.83333333, 0.        , 0.        ,\n",
       "        0.        , 0.        , 0.        , 0.        , 0.        ,\n",
       "        0.        , 0.        , 0.        , 0.        , 0.        ,\n",
       "        0.        , 0.        , 0.        , 0.        , 0.        ,\n",
       "        0.        ],\n",
       "       [0.        , 0.        , 0.        , 0.        , 0.        ,\n",
       "        0.        , 0.        , 0.        , 0.        , 1.        ,\n",
       "        0.        , 0.        , 0.        , 0.        , 0.        ,\n",
       "        0.        , 0.        , 0.        , 0.        , 0.        ,\n",
       "        0.        , 0.        , 0.        , 0.        , 0.        ,\n",
       "        0.        ],\n",
       "       [0.        , 0.        , 0.01574803, 0.        , 0.02362205,\n",
       "        0.        , 0.        , 0.        , 0.        , 0.92913386,\n",
       "        0.        , 0.        , 0.        , 0.        , 0.        ,\n",
       "        0.        , 0.        , 0.        , 0.        , 0.        ,\n",
       "        0.        , 0.        , 0.03149606, 0.        , 0.        ,\n",
       "        0.        ],\n",
       "       [0.        , 0.        , 0.        , 0.        , 0.        ,\n",
       "        0.        , 0.16666667, 0.        , 0.        , 0.        ,\n",
       "        0.16666667, 0.66666667, 0.        , 0.        , 0.        ,\n",
       "        0.        , 0.        , 0.        , 0.        , 0.        ,\n",
       "        0.        , 0.        , 0.        , 0.        , 0.        ,\n",
       "        0.        ],\n",
       "       [0.        , 0.        , 0.        , 0.        , 0.33333333,\n",
       "        0.        , 0.        , 0.        , 0.        , 0.        ,\n",
       "        0.66666667, 0.        , 0.        , 0.        , 0.        ,\n",
       "        0.        , 0.        , 0.        , 0.        , 0.        ,\n",
       "        0.        , 0.        , 0.        , 0.        , 0.        ,\n",
       "        0.        ],\n",
       "       [       nan,        nan,        nan,        nan,        nan,\n",
       "               nan,        nan,        nan,        nan,        nan,\n",
       "               nan,        nan,        nan,        nan,        nan,\n",
       "               nan,        nan,        nan,        nan,        nan,\n",
       "               nan,        nan,        nan,        nan,        nan,\n",
       "               nan],\n",
       "       [       nan,        nan,        nan,        nan,        nan,\n",
       "               nan,        nan,        nan,        nan,        nan,\n",
       "               nan,        nan,        nan,        nan,        nan,\n",
       "               nan,        nan,        nan,        nan,        nan,\n",
       "               nan,        nan,        nan,        nan,        nan,\n",
       "               nan],\n",
       "       [0.        , 0.08695652, 0.08695652, 0.04347826, 0.08695652,\n",
       "        0.        , 0.        , 0.        , 0.        , 0.        ,\n",
       "        0.04347826, 0.        , 0.        , 0.        , 0.30434783,\n",
       "        0.        , 0.        , 0.2173913 , 0.        , 0.        ,\n",
       "        0.        , 0.        , 0.13043478, 0.        , 0.        ,\n",
       "        0.        ],\n",
       "       [0.        , 0.        , 0.08333333, 0.        , 0.        ,\n",
       "        0.        , 0.        , 0.        , 0.        , 0.        ,\n",
       "        0.        , 0.        , 0.        , 0.        , 0.83333333,\n",
       "        0.08333333, 0.        , 0.        , 0.        , 0.        ,\n",
       "        0.        , 0.        , 0.        , 0.        , 0.        ,\n",
       "        0.        ],\n",
       "       [0.        , 0.        , 0.        , 0.        , 1.        ,\n",
       "        0.        , 0.        , 0.        , 0.        , 0.        ,\n",
       "        0.        , 0.        , 0.        , 0.        , 0.        ,\n",
       "        0.        , 0.        , 0.        , 0.        , 0.        ,\n",
       "        0.        , 0.        , 0.        , 0.        , 0.        ,\n",
       "        0.        ],\n",
       "       [0.        , 0.        , 0.        , 0.        , 0.42857143,\n",
       "        0.        , 0.28571429, 0.        , 0.        , 0.        ,\n",
       "        0.        , 0.        , 0.        , 0.        , 0.        ,\n",
       "        0.        , 0.        , 0.14285714, 0.        , 0.        ,\n",
       "        0.        , 0.        , 0.        , 0.14285714, 0.        ,\n",
       "        0.        ],\n",
       "       [0.        , 0.        , 0.        , 0.        , 0.        ,\n",
       "        0.        , 0.        , 0.        , 0.        , 0.        ,\n",
       "        0.        , 0.        , 0.        , 0.        , 0.1       ,\n",
       "        0.        , 0.1       , 0.        , 0.8       , 0.        ,\n",
       "        0.        , 0.        , 0.        , 0.        , 0.        ,\n",
       "        0.        ],\n",
       "       [       nan,        nan,        nan,        nan,        nan,\n",
       "               nan,        nan,        nan,        nan,        nan,\n",
       "               nan,        nan,        nan,        nan,        nan,\n",
       "               nan,        nan,        nan,        nan,        nan,\n",
       "               nan,        nan,        nan,        nan,        nan,\n",
       "               nan],\n",
       "       [       nan,        nan,        nan,        nan,        nan,\n",
       "               nan,        nan,        nan,        nan,        nan,\n",
       "               nan,        nan,        nan,        nan,        nan,\n",
       "               nan,        nan,        nan,        nan,        nan,\n",
       "               nan,        nan,        nan,        nan,        nan,\n",
       "               nan],\n",
       "       [       nan,        nan,        nan,        nan,        nan,\n",
       "               nan,        nan,        nan,        nan,        nan,\n",
       "               nan,        nan,        nan,        nan,        nan,\n",
       "               nan,        nan,        nan,        nan,        nan,\n",
       "               nan,        nan,        nan,        nan,        nan,\n",
       "               nan],\n",
       "       [0.        , 0.        , 0.        , 0.        , 0.        ,\n",
       "        0.        , 0.        , 0.        , 0.        , 0.75      ,\n",
       "        0.        , 0.        , 0.        , 0.        , 0.        ,\n",
       "        0.25      , 0.        , 0.        , 0.        , 0.        ,\n",
       "        0.        , 0.        , 0.        , 0.        , 0.        ,\n",
       "        0.        ],\n",
       "       [0.        , 0.        , 0.        , 0.        , 0.        ,\n",
       "        0.        , 0.        , 0.        , 0.        , 0.        ,\n",
       "        0.        , 0.        , 0.        , 0.        , 0.        ,\n",
       "        0.        , 0.        , 0.        , 0.        , 0.        ,\n",
       "        0.        , 0.        , 0.        , 0.        , 1.        ,\n",
       "        0.        ],\n",
       "       [0.        , 0.        , 0.        , 0.        , 0.        ,\n",
       "        0.        , 0.        , 0.        , 0.        , 0.        ,\n",
       "        0.        , 0.        , 0.        , 0.        , 0.        ,\n",
       "        0.        , 0.        , 1.        , 0.        , 0.        ,\n",
       "        0.        , 0.        , 0.        , 0.        , 0.        ,\n",
       "        0.        ],\n",
       "       [0.        , 0.        , 0.        , 0.        , 0.        ,\n",
       "        0.        , 0.        , 0.        , 0.        , 0.        ,\n",
       "        0.        , 0.        , 0.        , 0.        , 0.        ,\n",
       "        0.        , 0.        , 0.        , 0.        , 0.        ,\n",
       "        0.        , 0.        , 1.        , 0.        , 0.        ,\n",
       "        0.        ]])"
      ]
     },
     "execution_count": 14,
     "metadata": {},
     "output_type": "execute_result"
    }
   ],
   "source": [
    "R"
   ]
  },
  {
   "attachments": {},
   "cell_type": "markdown",
   "metadata": {},
   "source": [
    "Now we run the stochastic process using the transition matrices derived."
   ]
  },
  {
   "cell_type": "code",
   "execution_count": 15,
   "metadata": {},
   "outputs": [],
   "source": [
    "def violin_note(duration, pitch = \"C4\"):\n",
    "    # create Note object with pitch and duration\n",
    "    return note.Note(pitch, quarterLength = duration*(4))"
   ]
  },
  {
   "cell_type": "code",
   "execution_count": 16,
   "metadata": {},
   "outputs": [],
   "source": [
    "def create_violin_stream(time_sig = None):\n",
    "    # initialize note stream for violin\n",
    "    # if time signature is None, no measure splits\n",
    "    if time_sig == None:\n",
    "        violPart = stream.Measure()\n",
    "    else:\n",
    "        violPart = stream.Stream()\n",
    "        violPart.timeSignature = meter.TimeSignature(time_sig)\n",
    "    \n",
    "    violPart.insert(0, instrument.Violin())\n",
    "    return violPart"
   ]
  },
  {
   "cell_type": "code",
   "execution_count": 17,
   "metadata": {},
   "outputs": [],
   "source": [
    "def append_event(duration, original_stream, rest = False, pitch = 'C4'):\n",
    "    # returns a new_stream obtained by appending a rhythmical event or a rest of given duration to the original_stream\n",
    "    new_stream = original_stream\n",
    "    if rest:\n",
    "        new_stream.append(note.Rest(quarterLength = duration*(4)))\n",
    "    else:\n",
    "        new_stream.append(violin_note(duration, pitch))\n",
    "    return new_stream"
   ]
  },
  {
   "cell_type": "code",
   "execution_count": 18,
   "metadata": {},
   "outputs": [],
   "source": [
    "def rhythm_from_sequence(durations, time_sig = None, pitch = 'C4', rhythm=None):\n",
    "    # generate rhythmic stream from a list of durations. Rests are indicated by specifying a duration as a string\n",
    "    if rhythm is None:\n",
    "        # pass an existing stream 'rhythm' to append the durations, otherwise a new one will be created\n",
    "        rhythm = create_violin_stream(time_sig = time_sig)\n",
    "    for dur in durations:\n",
    "        is_rest = False\n",
    "        if dur != 0:\n",
    "            if isinstance(dur, str):\n",
    "                #if duration is given as a string, interpret and rest and turn string into a numerical value\n",
    "                is_rest = True\n",
    "                dur = Fraction(dur)\n",
    "            \n",
    "            rhythm = append_event(dur, rhythm, rest = is_rest, pitch = pitch) \n",
    "    return rhythm"
   ]
  },
  {
   "cell_type": "code",
   "execution_count": 19,
   "metadata": {},
   "outputs": [],
   "source": [
    "# example\n",
    "ex = rhythm_from_sequence([3/8, 1/8, '1/2', 1/4], time_sig = '4/4')\n",
    "append_event(1/4, ex, pitch = 'D4')\n",
    "ex.show('musicxml')"
   ]
  },
  {
   "cell_type": "code",
   "execution_count": 20,
   "metadata": {},
   "outputs": [],
   "source": [
    "dict_pitches_inv = {v: k for k, v in dict_pitches.items()}"
   ]
  },
  {
   "cell_type": "code",
   "execution_count": 87,
   "metadata": {},
   "outputs": [],
   "source": [
    "s = rhythm_from_sequence([], time_sig = '5/4')\n",
    "\n",
    "bars_total = 24\n",
    "beats = bars_total*5/4\n",
    "new_pitch = d[0, start-1][0]\n",
    "new_octave = d[1, start-1][0]\n",
    "new_duration = d[2, start-1]\n",
    "\n",
    "# generate a sequence of notes wrt the transition matrices P, R\n",
    "while beats>0:\n",
    "    is_rest = False\n",
    "    old_pitch, old_octave, old_duration = new_pitch, new_octave, new_duration\n",
    "\n",
    "    # pitch process\n",
    "    ind1 = (old_octave - 3) * 12 + dict_pitches[old_pitch]\n",
    "    ind2 = np.random.choice(np.arange(12*(M-m+1)), p=P[ind1, :])\n",
    "    new_pitch = dict_pitches_inv[ind2 % 12]\n",
    "    new_octave = (ind2 // 12) + 3\n",
    "\n",
    "    # rhythm process\n",
    "    ind1 = mat_ind.index(old_duration)\n",
    "    ind2 = np.random.choice(len(mat_ind), p=R[ind1, :])\n",
    "    new_duration = mat_ind[ind2]\n",
    "    if isinstance(new_duration, str):\n",
    "        is_rest = True\n",
    "        new_duration = Fraction(new_duration)\n",
    "\n",
    "    # update beats\n",
    "    beats -= float(new_duration)\n",
    "    if beats < 0:\n",
    "        new_duration = float(new_duration) + beats\n",
    "    \n",
    "    if is_rest:\n",
    "        new_duration = Fraction(new_duration)\n",
    "    # append note to stream\n",
    "    append_event(new_duration, s, rest=is_rest, pitch = new_pitch + str(new_octave))"
   ]
  },
  {
   "cell_type": "code",
   "execution_count": 86,
   "metadata": {},
   "outputs": [],
   "source": [
    "s.show('musicxml')"
   ]
  },
  {
   "attachments": {},
   "cell_type": "markdown",
   "metadata": {},
   "source": [
    "#### 2nd Order Markov Chain"
   ]
  },
  {
   "cell_type": "code",
   "execution_count": 89,
   "metadata": {},
   "outputs": [
    {
     "name": "stderr",
     "output_type": "stream",
     "text": [
      "C:\\Users\\User\\AppData\\Local\\Temp\\ipykernel_3608\\2991847980.py:15: RuntimeWarning: invalid value encountered in divide\n",
      "  P = P / np.sum(P, axis=1, keepdims=True)\n"
     ]
    }
   ],
   "source": [
    "# 2nd order pitch transition matrix\n",
    "\n",
    "N = 12*(M-m+1)\n",
    "P = np.zeros([N**2, N])\n",
    "\n",
    "for i in range(len(pitches)-2):\n",
    "    for j in range(len(pitches[i])):\n",
    "        for k in range(len(pitches[i+1])):\n",
    "            for l in range(len(pitches[i+2])):\n",
    "                ind1 = (octaves[i][j] - 3) * 12 + dict_pitches[pitches[i][j]]\n",
    "                ind2 = (octaves[i+1][k] - 3) * 12 + dict_pitches[pitches[i+1][k]]\n",
    "                ind3 = (octaves[i+2][l] - 3) * 12 + dict_pitches[pitches[i+2][l]]\n",
    "                P[ind1*N + ind2, ind3] += 1\n",
    "\n",
    "P = P / np.sum(P, axis=1, keepdims=True)"
   ]
  },
  {
   "cell_type": "code",
   "execution_count": 173,
   "metadata": {},
   "outputs": [
    {
     "name": "stderr",
     "output_type": "stream",
     "text": [
      "C:\\Users\\User\\AppData\\Local\\Temp\\ipykernel_3608\\920235247.py:12: RuntimeWarning: invalid value encountered in divide\n",
      "  R = R / np.sum(R, axis=1, keepdims=True)\n"
     ]
    }
   ],
   "source": [
    "# 2nd order rhythm transition matrix\n",
    "\n",
    "M = len(mat_ind)\n",
    "R = np.zeros([M**2, M])\n",
    "\n",
    "for i in range(len(rhy)-2):\n",
    "    ind1 = mat_ind.index(rhy[i])\n",
    "    ind2 = mat_ind.index(rhy[i+1])\n",
    "    ind3 = mat_ind.index(rhy[i+2])\n",
    "    R[ind1*M + ind2, ind3] += 1\n",
    "\n",
    "R = R / np.sum(R, axis=1, keepdims=True)"
   ]
  },
  {
   "cell_type": "code",
   "execution_count": 180,
   "metadata": {},
   "outputs": [],
   "source": [
    "s = rhythm_from_sequence([], time_sig = '5/4')\n",
    "\n",
    "bars_total = 24\n",
    "beats = bars_total*5/4\n",
    "old_pitch2, new_pitch = d[0, start-2][0], d[0, start-1][0]\n",
    "old_octave2, new_octave = d[1, start-2][0], d[1, start-1][0]\n",
    "old_duration2, new_duration = d[2, start-2], d[2, start-1]\n",
    "\n",
    "# generate a sequence of notes wrt the transition matrices P, R\n",
    "while beats>0:\n",
    "    is_rest = False\n",
    "\n",
    "    old_pitch1, old_pitch2 = old_pitch2, new_pitch\n",
    "    old_octave1, old_octave2 = old_octave2, new_octave\n",
    "    old_duration1, old_duration2 = old_duration2, new_duration\n",
    "\n",
    "    # pitch process\n",
    "    ind1 = (old_octave1 - 3) * 12 + dict_pitches[old_pitch1]\n",
    "    ind2 = (old_octave2 - 3) * 12 + dict_pitches[old_pitch2]\n",
    "    ind3 = np.random.choice(np.arange(N), p=P[ind1*N + ind2, :])\n",
    "    new_pitch = dict_pitches_inv[ind3 % 12]\n",
    "    new_octave = (ind3 // 12) + 3\n",
    "\n",
    "    # rhythm process\n",
    "    ind1 = mat_ind.index(old_duration1)\n",
    "    ind2 = mat_ind.index(old_duration2)\n",
    "    ind3 = np.random.choice(len(mat_ind), p=R[ind1*M + ind2, :])\n",
    "    new_duration = mat_ind[ind3]\n",
    "    if isinstance(new_duration, str):\n",
    "        is_rest = True\n",
    "        new_duration = Fraction(new_duration)\n",
    "\n",
    "    # update beats\n",
    "    beats -= float(new_duration)\n",
    "    if beats < 0:\n",
    "        new_duration = float(new_duration) + beats\n",
    "    if is_rest:\n",
    "        new_duration = Fraction(new_duration)\n",
    "    # append note to stream    \n",
    "    append_event(new_duration, s, rest = is_rest, pitch = new_pitch + str(new_octave))"
   ]
  },
  {
   "cell_type": "code",
   "execution_count": 181,
   "metadata": {},
   "outputs": [],
   "source": [
    "s.show('musicxml')"
   ]
  },
  {
   "cell_type": "code",
   "execution_count": null,
   "metadata": {},
   "outputs": [],
   "source": []
  }
 ],
 "metadata": {
  "kernelspec": {
   "display_name": "Python 3",
   "language": "python",
   "name": "python3"
  },
  "language_info": {
   "codemirror_mode": {
    "name": "ipython",
    "version": 3
   },
   "file_extension": ".py",
   "mimetype": "text/x-python",
   "name": "python",
   "nbconvert_exporter": "python",
   "pygments_lexer": "ipython3",
   "version": "3.11.2"
  },
  "orig_nbformat": 4,
  "vscode": {
   "interpreter": {
    "hash": "ebfc0a8d552866b0d59eba665220a57de3bc06f3ac643b8bef38dd8f66781fdd"
   }
  }
 },
 "nbformat": 4,
 "nbformat_minor": 2
}
